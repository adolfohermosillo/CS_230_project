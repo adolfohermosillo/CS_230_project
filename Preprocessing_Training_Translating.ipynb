{
 "cells": [
  {
   "cell_type": "markdown",
   "metadata": {},
   "source": [
    "# Neural Machine Translation in Low-Resource Contexts: Indigenous Languages of the Americas and Spanish"
   ]
  },
  {
   "cell_type": "markdown",
   "metadata": {},
   "source": [
    "Neural Machine Translation has become the go-to technique for automatic translation. However, low resource langauges have fallen behind due to the lack of data that is often needed for deep learning tasks."
   ]
  },
  {
   "cell_type": "code",
   "execution_count": 2,
   "metadata": {},
   "outputs": [],
   "source": [
    "import pandas as pd\n",
    "import numpy as np\n",
    "import matplotlib.pyplot as plt\n",
    "import math\n",
    "from sklearn.model_selection import train_test_split\n",
    "import os"
   ]
  },
  {
   "cell_type": "markdown",
   "metadata": {},
   "source": [
    "# Parallel Corpora "
   ]
  },
  {
   "cell_type": "markdown",
   "metadata": {},
   "source": [
    "In machine translation, a parallel corpus is a collection of parallel sentences in one source langauge and a target langauge. In this project, our source language will be an indigenous language of the Americas and the target language will be Spanish. Though we will be translating in both directions!"
   ]
  },
  {
   "cell_type": "markdown",
   "metadata": {},
   "source": [
    "## Nahuatl "
   ]
  },
  {
   "cell_type": "markdown",
   "metadata": {},
   "source": [
    "Nahuatl is an indigenous langauge spoken by 1.5 million people primarily in Mexico, with significant population of speakers in Guatemala, el Salvador, and the United States. The corpus we will be using is a portion of the Axolotl corpus, a collection of mutliple sources written in Nahuatl and translated into spanish."
   ]
  },
  {
   "cell_type": "code",
   "execution_count": 3,
   "metadata": {},
   "outputs": [],
   "source": [
    "nahuatl =open('nahuatl-spanish/corpus/corpus.nah','r').readlines()\n",
    "spanish_nahuatl =open('nahuatl-spanish/corpus/corpus.es','r').readlines() \n",
    "nahuatl_lengths = [len(i.split()) for i in nahuatl]\n",
    "spanish_nahuatl_lengths = [len(i.split()) for i in spanish_nahuatl]\n",
    "nahuatl_spanish_corpus = pd.DataFrame(zip(nahuatl,spanish_nahuatl, ),columns=['Nahuatl','Spanish'])\n",
    "\n",
    "\n",
    "nahuatl_spanish_corpus = nahuatl_spanish_corpus.drop(nahuatl_spanish_corpus[nahuatl_spanish_corpus.Nahuatl == '\\n' ].index)\n",
    "nahuatl_spanish_corpus = nahuatl_spanish_corpus.drop(nahuatl_spanish_corpus[nahuatl_spanish_corpus.Spanish == '\\n' ].index)\n",
    "\n",
    "\n"
   ]
  },
  {
   "cell_type": "code",
   "execution_count": 4,
   "metadata": {},
   "outputs": [
    {
     "name": "stdout",
     "output_type": "stream",
     "text": [
      "Nahuatl sentence\n",
      "Yhuan yn itlatocayotzin çenca oc tlapanahuia ynic mahuiztic ynic tlachiuhtli chalchihuitl huellaçecauhtli huel pepetlaca tlanextia .\n",
      "\n",
      "Spanish translation\n",
      "Pero lo más hermoso era una diadema señorial hecha con chalchihuites galanos que lanzaban vivos destellos .\n",
      "\n"
     ]
    }
   ],
   "source": [
    "print('Nahuatl sentence\\n'+ nahuatl[5])\n",
    "print('Spanish translation\\n'+ spanish_nahuatl[5])"
   ]
  },
  {
   "cell_type": "code",
   "execution_count": 5,
   "metadata": {},
   "outputs": [],
   "source": [
    "nah_spa = pd.DataFrame(zip(nahuatl_lengths,spanish_nahuatl_lengths),columns=['nahuatl','spanish'])"
   ]
  },
  {
   "cell_type": "code",
   "execution_count": 6,
   "metadata": {},
   "outputs": [
    {
     "data": {
      "image/png": "[encoded data removed]",
      "text/plain": [
       "<Figure size 432x288 with 1 Axes>"
      ]
     },
     "metadata": {
      "needs_background": "light"
     },
     "output_type": "display_data"
    }
   ],
   "source": [
    "ax = nah_spa.plot.hist(bins=1000, alpha=0.5)"
   ]
  },
  {
   "cell_type": "code",
   "execution_count": 7,
   "metadata": {},
   "outputs": [
    {
     "name": "stdout",
     "output_type": "stream",
     "text": [
      "Sentences in the corpus: 16145\n",
      "Mean sentence lenght for Nahuatl: 21.784391452462064\n",
      "Mean sentence lenght for Spanish: 29.11947971508207\n"
     ]
    }
   ],
   "source": [
    "print('Sentences in the corpus:', nah_spa.shape[0])\n",
    "print('Mean sentence lenght for Nahuatl:', np.mean(nah_spa)[0])\n",
    "print('Mean sentence lenght for Spanish:', np.mean(nah_spa)[1])\n"
   ]
  },
  {
   "cell_type": "code",
   "execution_count": 8,
   "metadata": {
    "scrolled": true
   },
   "outputs": [
    {
     "name": "stdout",
     "output_type": "stream",
     "text": [
      "Tokens in Nahuatl: 351709\n",
      "Tokens in Spanish: 470134\n"
     ]
    }
   ],
   "source": [
    "print(\"Tokens in Nahuatl:\",sum(nahuatl_lengths))\n",
    "print(\"Tokens in Spanish:\",sum(spanish_nahuatl_lengths))\n"
   ]
  },
  {
   "cell_type": "markdown",
   "metadata": {},
   "source": [
    "The data seems to be heavly right-skewed, let's look at sentences under 200 tokens"
   ]
  },
  {
   "cell_type": "code",
   "execution_count": 9,
   "metadata": {},
   "outputs": [],
   "source": [
    "nahuatl_spanish_200 = [(i,j )for i,j in zip(nahuatl_lengths, spanish_nahuatl_lengths) if i < 200]\n",
    "nah_spa_200 = pd.DataFrame(nahuatl_spanish_200,columns=['Nahuatl','Spanish'])"
   ]
  },
  {
   "cell_type": "code",
   "execution_count": 10,
   "metadata": {},
   "outputs": [
    {
     "data": {
      "image/png": "[encoded data removed]",
      "text/plain": [
       "<Figure size 432x288 with 1 Axes>"
      ]
     },
     "metadata": {
      "needs_background": "light"
     },
     "output_type": "display_data"
    }
   ],
   "source": [
    "ax = nah_spa_200.plot.hist(bins=100, alpha=0.5, title = \"Axoltol Corpus\")\n"
   ]
  },
  {
   "cell_type": "code",
   "execution_count": 11,
   "metadata": {},
   "outputs": [
    {
     "name": "stdout",
     "output_type": "stream",
     "text": [
      "Sentences in Nahuatl under 200 tokens: 16087\n",
      "Mean sentence lenght for Nahuatl: 20.421458320382918\n",
      "Mean sentence lenght for Spanish: 26.005345931497484\n"
     ]
    }
   ],
   "source": [
    "print('Sentences in Nahuatl under 200 tokens:', nah_spa_200.shape[0])\n",
    "print('Mean sentence lenght for Nahuatl:', np.mean(nah_spa_200)[0])\n",
    "print('Mean sentence lenght for Spanish:', np.mean(nah_spa_200)[1])\n"
   ]
  },
  {
   "cell_type": "markdown",
   "metadata": {},
   "source": [
    "As seen from the distribution, not that many setneces are longer than 100 tokens. In the preporcessing step we will apply subword tokenization, which will segment words into sub word units. We will truncate sentence up to the 400th character. "
   ]
  },
  {
   "cell_type": "markdown",
   "metadata": {},
   "source": [
    "# Wixarika"
   ]
  },
  {
   "cell_type": "markdown",
   "metadata": {},
   "source": [
    "The Wixarika langauge is spoken by approximately 50,000 thousand people in western Mexico. This corpus is composed of translation of Grimm and Anderssen stories."
   ]
  },
  {
   "cell_type": "code",
   "execution_count": 12,
   "metadata": {},
   "outputs": [],
   "source": [
    "wixarica =open('wixarica-spanish/corpus/corpus.hch','r').readlines()\n",
    "spanish_wixarica =open('wixarica-spanish/corpus/corpus.es','r').readlines()\n",
    "wixarica_lengths = [len(i.split()) for i in wixarica]\n",
    "spanish_wixarica_lengths = [len(i.split()) for i in spanish_wixarica]\n",
    "wixarica_spanish_corpus = pd.DataFrame(zip(wixarica,spanish_wixarica, ),columns=['Wixarica','Spanish'])"
   ]
  },
  {
   "cell_type": "code",
   "execution_count": 13,
   "metadata": {},
   "outputs": [
    {
     "name": "stdout",
     "output_type": "stream",
     "text": [
      "Wixarica sentence: per+ temu, heiwa anunakieka yu promesa,  \n",
      "\n",
      "Spanish translation:  Pero la rana,  una vez recibida la promesa, \n",
      "\n"
     ]
    }
   ],
   "source": [
    "print('Wixarica sentence:', wixarica[100])\n",
    "print('Spanish translation:', spanish_wixarica[100])"
   ]
  },
  {
   "cell_type": "code",
   "execution_count": 14,
   "metadata": {},
   "outputs": [],
   "source": [
    "wix_spa = pd.DataFrame(zip(wixarica_lengths,spanish_wixarica_lengths),columns=['Wixarika','Spanish'])\n"
   ]
  },
  {
   "cell_type": "code",
   "execution_count": 15,
   "metadata": {},
   "outputs": [
    {
     "data": {
      "image/png": "[encoded data removed]",
      "text/plain": [
       "<Figure size 432x288 with 1 Axes>"
      ]
     },
     "metadata": {
      "needs_background": "light"
     },
     "output_type": "display_data"
    }
   ],
   "source": [
    "ax = wix_spa.plot.hist(bins=20, alpha=0.5, title = \"Wixarika-Spanish Parallel Corpus\")"
   ]
  },
  {
   "cell_type": "markdown",
   "metadata": {},
   "source": [
    "As we can see, the distribution of sentence lenght is more unifrom the wixarica-Spanish parallel corpus than the Nahuatl-Spanish corpus. The nature of the Nahuatl-Spanish corpus might explain the distribution of sentence lengths, since there are multiple sources of variation within the data."
   ]
  },
  {
   "cell_type": "code",
   "execution_count": 69,
   "metadata": {},
   "outputs": [
    {
     "name": "stdout",
     "output_type": "stream",
     "text": [
      "Sentences in the Wixarica-Spanish corpus: 8966\n",
      "Mean sentence lenght for Wixarica: 5.453490965871069\n",
      "Mean sentence lenght for Spanish: 7.647668971670756\n"
     ]
    }
   ],
   "source": [
    "print('Sentences in the Wixarica-Spanish corpus:', wix_spa.shape[0])\n",
    "print('Mean sentence lenght for Wixarica:', np.mean(wix_spa)[0])\n",
    "print('Mean sentence lenght for Spanish:', np.mean(wix_spa)[1])\n"
   ]
  },
  {
   "cell_type": "code",
   "execution_count": 70,
   "metadata": {},
   "outputs": [
    {
     "name": "stdout",
     "output_type": "stream",
     "text": [
      "Tokens in Wixarica: 48896\n",
      "Tokens in Spanish: 68569\n"
     ]
    }
   ],
   "source": [
    "print(\"Tokens in Wixarica:\",sum(wixarica_lengths))\n",
    "print(\"Tokens in Spanish:\",sum(spanish_wixarica_lengths))"
   ]
  },
  {
   "cell_type": "markdown",
   "metadata": {},
   "source": [
    "# Preprocessing"
   ]
  },
  {
   "cell_type": "markdown",
   "metadata": {},
   "source": [
    "Subword tokenization (Sennrich et al., 2016) has shown important advances in NMT. In this project, we use a simlar language-independent tokenizer: SentencePiece (Kudo & Richardson, 2018)"
   ]
  },
  {
   "cell_type": "code",
   "execution_count": 71,
   "metadata": {},
   "outputs": [],
   "source": [
    "import sentencepiece as spm"
   ]
  },
  {
   "cell_type": "markdown",
   "metadata": {},
   "source": [
    "## Nahuatl-Spanish sub-word tokenization"
   ]
  },
  {
   "cell_type": "markdown",
   "metadata": {},
   "source": [
    "Since the corpus has been word tokenized, we will go ahead and start training our sentencePiece models for each language. Usuaully these models are trained on bigger chunks of data, we will instead use the provided corpora for each language. We will only perform 2000 operations as smaller number of merge operations are better for smaller datasets (Araabi and Monz, 2020). "
   ]
  },
  {
   "cell_type": "code",
   "execution_count": 72,
   "metadata": {},
   "outputs": [],
   "source": [
    "\n",
    "path_spm = 'nahuatl-spanish'\n",
    "\n",
    "# train model on the source language\n",
    "nahuatl_spm = spm.SentencePieceTrainer.train( input=path_spm +'/corpus/corpus.nah', \n",
    "                                         model_prefix='{}/spm/train_nah_spm'.format(path_spm),\n",
    "                                         vocab_size=2000)\n",
    "\n",
    "# train model on the target language\n",
    "spanish_nahuatl_spm = spm.SentencePieceTrainer.train( input=path_spm+'/corpus/corpus.es',\n",
    "                                        model_prefix='{}/spm/train_es-nah_spm'.format(path_spm),\n",
    "                                         vocab_size=2000)\n"
   ]
  },
  {
   "cell_type": "markdown",
   "metadata": {},
   "source": [
    "Load the trained model"
   ]
  },
  {
   "cell_type": "code",
   "execution_count": 73,
   "metadata": {},
   "outputs": [
    {
     "data": {
      "text/plain": [
       "True"
      ]
     },
     "execution_count": 73,
     "metadata": {},
     "output_type": "execute_result"
    }
   ],
   "source": [
    "#load model trained on Wixarica \n",
    "nah_pr = spm.SentencePieceProcessor()\n",
    "nah_pr.load('{}/spm/train_nah_spm.model'.format(path_spm))\n",
    "\n",
    "#load model trained on Spanish\n",
    "es_nah_pr = spm.SentencePieceProcessor()\n",
    "es_nah_pr.load('{}/spm/train_es-nah_spm.model'.format(path_spm))"
   ]
  },
  {
   "cell_type": "markdown",
   "metadata": {},
   "source": [
    "Encode sentences and truncate sentences with more than 400 tokens. "
   ]
  },
  {
   "cell_type": "code",
   "execution_count": 74,
   "metadata": {},
   "outputs": [],
   "source": [
    "# Takes a pandas dataframe, returns a 2D list with subword tokenized\n",
    "# parallel sentences with a max length of 400 as default\n",
    "\n",
    "def subword_tokenization(dataset,  spm_source,  spm_target, sentence_length=400):\n",
    "    # Create two lists to store the newly encoded sentences     \n",
    "    source = []\n",
    "    target = []\n",
    "\n",
    "    # iterate through the initial parallel corpus\n",
    "    # we need to restric our newly created sentences to \n",
    "    # a lenght of 5000 to avoid errors from the positional \n",
    "    # embedding in the transformer.\n",
    "\n",
    "    for index,row in dataset.iterrows():\n",
    "\n",
    "        src_e = spm_source.EncodeAsPieces(row[0])\n",
    "        src_t = spm_target.EncodeAsPieces(row[1])\n",
    "\n",
    "        #check out waht sentences have more than 400 sentence pieces\n",
    "        sl = len(src_e)\n",
    "        tl = len(src_t)\n",
    "\n",
    "        source.append(' '.join(src_e[:sentence_length]))     #encode and append source sentence\n",
    "        target.append(' '.join(src_t[:sentence_length]))     #encode and append target sentence\n",
    "    tokenized_corpus = pd.DataFrame([(i,j )for i,j in zip(source,target)], columns = dataset.columns)\n",
    "    return tokenized_corpus\n"
   ]
  },
  {
   "cell_type": "code",
   "execution_count": 75,
   "metadata": {},
   "outputs": [],
   "source": [
    "nah_spa = subword_tokenization(dataset = nahuatl_spanish_corpus, spm_source = nah_pr, spm_target = es_nah_pr )"
   ]
  },
  {
   "cell_type": "markdown",
   "metadata": {},
   "source": [
    "### Original Nahuatl-Spanish corpus"
   ]
  },
  {
   "cell_type": "markdown",
   "metadata": {},
   "source": [
    "### Preprocessed Nahuatl-Spanish corpus\n"
   ]
  },
  {
   "cell_type": "code",
   "execution_count": 76,
   "metadata": {},
   "outputs": [
    {
     "data": {
      "text/html": [
       "<div>\n",
       "<style scoped>\n",
       "    .dataframe tbody tr th:only-of-type {\n",
       "        vertical-align: middle;\n",
       "    }\n",
       "\n",
       "    .dataframe tbody tr th {\n",
       "        vertical-align: top;\n",
       "    }\n",
       "\n",
       "    .dataframe thead th {\n",
       "        text-align: right;\n",
       "    }\n",
       "</style>\n",
       "<table border=\"1\" class=\"dataframe\">\n",
       "  <thead>\n",
       "    <tr style=\"text-align: right;\">\n",
       "      <th></th>\n",
       "      <th>Nahuatl</th>\n",
       "      <th>Spanish</th>\n",
       "    </tr>\n",
       "  </thead>\n",
       "  <tbody>\n",
       "    <tr>\n",
       "      <th>0</th>\n",
       "      <td>▁Au h ▁niman ▁y quac ▁ohual temo que ▁oaci ohu...</td>\n",
       "      <td>▁En ▁este ▁entonces ▁baja ron ▁ , ▁lleg aron ▁...</td>\n",
       "    </tr>\n",
       "    <tr>\n",
       "      <th>1</th>\n",
       "      <td>▁Ye ▁one to co to ▁ , ▁o huilo a ▁ca ▁. ▁In ▁t...</td>\n",
       "      <td>▁Con tin ú a ▁la ▁parti da ▁de ▁gente s ▁ , ▁t...</td>\n",
       "    </tr>\n",
       "    <tr>\n",
       "      <th>2</th>\n",
       "      <td>▁se ki ▁tla ka ▁ki n tla š ilia ▁ ' ▁ma xa da ▁.</td>\n",
       "      <td>▁Un as ▁personas ▁le s ▁echa n ▁es ti er co l ▁.</td>\n",
       "    </tr>\n",
       "    <tr>\n",
       "      <th>3</th>\n",
       "      <td>▁Amo ▁ipampa ▁ximo tequi pacho ▁ , ▁ye ▁i ciuh...</td>\n",
       "      <td>▁No ▁de s es pe res ▁por ▁esto ▁ , ▁ya ▁mejor ...</td>\n",
       "    </tr>\n",
       "    <tr>\n",
       "      <th>4</th>\n",
       "      <td>▁Pe jki ▁tle jko k ▁tle jko k</td>\n",
       "      <td>▁E m pe z ó ▁a ▁su bi r ▁y ▁su bi r</td>\n",
       "    </tr>\n",
       "  </tbody>\n",
       "</table>\n",
       "</div>"
      ],
      "text/plain": [
       "                                             Nahuatl  \\\n",
       "0  ▁Au h ▁niman ▁y quac ▁ohual temo que ▁oaci ohu...   \n",
       "1  ▁Ye ▁one to co to ▁ , ▁o huilo a ▁ca ▁. ▁In ▁t...   \n",
       "2   ▁se ki ▁tla ka ▁ki n tla š ilia ▁ ' ▁ma xa da ▁.   \n",
       "3  ▁Amo ▁ipampa ▁ximo tequi pacho ▁ , ▁ye ▁i ciuh...   \n",
       "4                      ▁Pe jki ▁tle jko k ▁tle jko k   \n",
       "\n",
       "                                             Spanish  \n",
       "0  ▁En ▁este ▁entonces ▁baja ron ▁ , ▁lleg aron ▁...  \n",
       "1  ▁Con tin ú a ▁la ▁parti da ▁de ▁gente s ▁ , ▁t...  \n",
       "2   ▁Un as ▁personas ▁le s ▁echa n ▁es ti er co l ▁.  \n",
       "3  ▁No ▁de s es pe res ▁por ▁esto ▁ , ▁ya ▁mejor ...  \n",
       "4                ▁E m pe z ó ▁a ▁su bi r ▁y ▁su bi r  "
      ]
     },
     "execution_count": 76,
     "metadata": {},
     "output_type": "execute_result"
    }
   ],
   "source": [
    "nah_spa.head(5)"
   ]
  },
  {
   "cell_type": "markdown",
   "metadata": {},
   "source": [
    "## Wixarica-Spanish subword tokenization"
   ]
  },
  {
   "cell_type": "code",
   "execution_count": 77,
   "metadata": {},
   "outputs": [],
   "source": [
    "import re\n",
    "import nltk\n",
    "from nltk.tokenize.toktok import ToktokTokenizer\n"
   ]
  },
  {
   "cell_type": "markdown",
   "metadata": {},
   "source": [
    "As we saw above, the corpus is word tokenized as we have seen examples of words punction right next to each other. We will apply word tokenization to separate words,and numbers, from punctuation and other symbols. "
   ]
  },
  {
   "cell_type": "markdown",
   "metadata": {},
   "source": [
    "Wixarica word tokenizer"
   ]
  },
  {
   "cell_type": "code",
   "execution_count": 78,
   "metadata": {},
   "outputs": [],
   "source": [
    "# Separte words and numbers from other symbols\n",
    "# and spanish words\n",
    "# In Wixarica '+' is a vowel\n",
    "\n",
    "# list -> list\n",
    "\n",
    "def wixarica_word_tokenization(dataset):\n",
    "    new = []\n",
    "    characters = '1234567890aehi+kmnprtsuwxy\\' bcdjloqtuvzáéíóúüñ\\n'\n",
    "    for sentence in dataset:\n",
    "\n",
    "        for c in sentence:\n",
    "            if c not in characters:\n",
    "                sentence = sentence.replace(c, ' {} '.format(c))\n",
    "        sentence = \" \".join(sentence.split())+\"\\n\"\n",
    "\n",
    "            \n",
    "        new.append(sentence)\n",
    "    return new"
   ]
  },
  {
   "cell_type": "markdown",
   "metadata": {},
   "source": [
    "Spanish word tokenizer"
   ]
  },
  {
   "cell_type": "code",
   "execution_count": 79,
   "metadata": {},
   "outputs": [],
   "source": [
    "# NLTK implementation of a Spanish word tokenizer\n",
    "\n",
    "# list -> list\n",
    "\n",
    "def spanish_word_tokenization(dataset):\n",
    "    new = []\n",
    "    word_tokenize = ToktokTokenizer()\n",
    "    for sentence in dataset:\n",
    "        new.append(\" \".join(word_tokenize.tokenize(sentence))+'\\n')\n",
    "    return new\n",
    "        "
   ]
  },
  {
   "cell_type": "markdown",
   "metadata": {},
   "source": [
    "Separate words and numbers from other characters"
   ]
  },
  {
   "cell_type": "code",
   "execution_count": 80,
   "metadata": {},
   "outputs": [],
   "source": [
    "wixarica_word_tok = wixarica_word_tokenization(dataset = wixarica )\n",
    "spanish_w_word_tok = spanish_word_tokenization(dataset = spanish_wixarica)"
   ]
  },
  {
   "cell_type": "markdown",
   "metadata": {},
   "source": [
    "Write the new files locally"
   ]
  },
  {
   "cell_type": "code",
   "execution_count": 81,
   "metadata": {},
   "outputs": [],
   "source": [
    "with open('wixarica-spanish/corpus/word_tokenized_corpus/corpus.hch','w') as f:\n",
    "    for i in wixarica_word_tok:\n",
    "        f.write(i)\n",
    "    "
   ]
  },
  {
   "cell_type": "code",
   "execution_count": 82,
   "metadata": {},
   "outputs": [],
   "source": [
    "with open('wixarica-spanish/corpus/word_tokenized_corpus/corpus.es','w') as f:\n",
    "    for i in spanish_w_word_tok:\n",
    "        f.write(i)"
   ]
  },
  {
   "cell_type": "markdown",
   "metadata": {},
   "source": [
    "Now, we will train a SentencePiece model with 2000 split operations. "
   ]
  },
  {
   "cell_type": "code",
   "execution_count": 83,
   "metadata": {},
   "outputs": [],
   "source": [
    "path_spm = 'wixarica-spanish'\n",
    "\n",
    "# train model on the source language\n",
    "wixarica_spm = spm.SentencePieceTrainer.train( input=path_spm+'/corpus/word_tokenized_corpus/corpus.hch', \n",
    "                                         model_prefix='{}/spm/train_hch_spm'.format(path_spm),\n",
    "                                         vocab_size=2000)\n",
    "\n",
    "# train model on the target language\n",
    "spanish_wixarica_spm = spm.SentencePieceTrainer.train( input=path_spm+'/corpus/word_tokenized_corpus/corpus.es',\n",
    "                                         model_prefix='{}/spm/train_es-hch_spm'.format(path_spm),\n",
    "                                         vocab_size=2000)\n"
   ]
  },
  {
   "cell_type": "code",
   "execution_count": 84,
   "metadata": {},
   "outputs": [
    {
     "data": {
      "text/plain": [
       "True"
      ]
     },
     "execution_count": 84,
     "metadata": {},
     "output_type": "execute_result"
    }
   ],
   "source": [
    "#load model trained on Wixarica \n",
    "hch_pr = spm.SentencePieceProcessor()\n",
    "hch_pr.load('{}/spm/train_hch_spm.model'.format(path_spm))\n",
    "\n",
    "        \n",
    "#load model trained on Spanish\n",
    "es_hch_pr = spm.SentencePieceProcessor()\n",
    "es_hch_pr.load('{}/spm/train_es-hch_spm.model'.format(path_spm))"
   ]
  },
  {
   "cell_type": "code",
   "execution_count": 85,
   "metadata": {},
   "outputs": [],
   "source": [
    "wixarica_spanish_wt_corpus = pd.DataFrame(zip(wixarica_word_tok,spanish_w_word_tok, ),\n",
    "                                          columns=['Wixarica','Spanish'])"
   ]
  },
  {
   "cell_type": "code",
   "execution_count": 86,
   "metadata": {},
   "outputs": [],
   "source": [
    "hch_es = subword_tokenization(dataset = wixarica_spanish_wt_corpus, spm_source = hch_pr, spm_target = es_hch_pr )"
   ]
  },
  {
   "cell_type": "code",
   "execution_count": 87,
   "metadata": {},
   "outputs": [
    {
     "data": {
      "text/html": [
       "<div>\n",
       "<style scoped>\n",
       "    .dataframe tbody tr th:only-of-type {\n",
       "        vertical-align: middle;\n",
       "    }\n",
       "\n",
       "    .dataframe tbody tr th {\n",
       "        vertical-align: top;\n",
       "    }\n",
       "\n",
       "    .dataframe thead th {\n",
       "        text-align: right;\n",
       "    }\n",
       "</style>\n",
       "<table border=\"1\" class=\"dataframe\">\n",
       "  <thead>\n",
       "    <tr style=\"text-align: right;\">\n",
       "      <th></th>\n",
       "      <th>Wixarica</th>\n",
       "      <th>Spanish</th>\n",
       "    </tr>\n",
       "  </thead>\n",
       "  <tbody>\n",
       "    <tr>\n",
       "      <th>0</th>\n",
       "      <td>m+k+ paukah+a tsimupe xik+ra+ye ti xuxuweme de...</td>\n",
       "      <td>ella echó la pequeña rueda de hilar de oro \\n</td>\n",
       "    </tr>\n",
       "    <tr>\n",
       "      <th>1</th>\n",
       "      <td>k+naya tatsiu, xeimieme, pure'eri: \\n</td>\n",
       "      <td>El esposo de la liebre,  sin embargo,  pensó:\\n</td>\n",
       "    </tr>\n",
       "    <tr>\n",
       "      <th>2</th>\n",
       "      <td>kename pinieya meta tewi heh+k+t+me ogro,  \\n</td>\n",
       "      <td>cuyo dueño y señor era un ogro,  \\n</td>\n",
       "    </tr>\n",
       "    <tr>\n",
       "      <th>3</th>\n",
       "      <td>nepexei tsipeme ki,  \\n</td>\n",
       "      <td>ví una pequeña casa,  \\n</td>\n",
       "    </tr>\n",
       "    <tr>\n",
       "      <th>4</th>\n",
       "      <td>meta mepeka uxipi naipariena cenicienta,  \\n</td>\n",
       "      <td>y se posaron en los hombros de Cenicienta, \\n</td>\n",
       "    </tr>\n",
       "  </tbody>\n",
       "</table>\n",
       "</div>"
      ],
      "text/plain": [
       "                                            Wixarica  \\\n",
       "0  m+k+ paukah+a tsimupe xik+ra+ye ti xuxuweme de...   \n",
       "1              k+naya tatsiu, xeimieme, pure'eri: \\n   \n",
       "2      kename pinieya meta tewi heh+k+t+me ogro,  \\n   \n",
       "3                            nepexei tsipeme ki,  \\n   \n",
       "4       meta mepeka uxipi naipariena cenicienta,  \\n   \n",
       "\n",
       "                                            Spanish  \n",
       "0     ella echó la pequeña rueda de hilar de oro \\n  \n",
       "1   El esposo de la liebre,  sin embargo,  pensó:\\n  \n",
       "2               cuyo dueño y señor era un ogro,  \\n  \n",
       "3                          ví una pequeña casa,  \\n  \n",
       "4     y se posaron en los hombros de Cenicienta, \\n  "
      ]
     },
     "execution_count": 87,
     "metadata": {},
     "output_type": "execute_result"
    }
   ],
   "source": [
    "wixarica_spanish_corpus.head(5)"
   ]
  },
  {
   "cell_type": "code",
   "execution_count": 88,
   "metadata": {},
   "outputs": [
    {
     "data": {
      "text/html": [
       "<div>\n",
       "<style scoped>\n",
       "    .dataframe tbody tr th:only-of-type {\n",
       "        vertical-align: middle;\n",
       "    }\n",
       "\n",
       "    .dataframe tbody tr th {\n",
       "        vertical-align: top;\n",
       "    }\n",
       "\n",
       "    .dataframe thead th {\n",
       "        text-align: right;\n",
       "    }\n",
       "</style>\n",
       "<table border=\"1\" class=\"dataframe\">\n",
       "  <thead>\n",
       "    <tr style=\"text-align: right;\">\n",
       "      <th></th>\n",
       "      <th>Wixarica</th>\n",
       "      <th>Spanish</th>\n",
       "    </tr>\n",
       "  </thead>\n",
       "  <tbody>\n",
       "    <tr>\n",
       "      <th>0</th>\n",
       "      <td>▁m + k + ▁pauka h + a ▁tsimupe ▁xik + ra + ye ...</td>\n",
       "      <td>▁ella ▁ech ó ▁la ▁pequeña ▁rueda ▁de ▁hilar ▁d...</td>\n",
       "    </tr>\n",
       "    <tr>\n",
       "      <th>1</th>\n",
       "      <td>▁ k + naya ▁tatsiu ▁, ▁xeimieme ▁, ▁pure ' eri...</td>\n",
       "      <td>▁El ▁esposo ▁de ▁la ▁liebre ▁, ▁sin ▁embar go ...</td>\n",
       "    </tr>\n",
       "    <tr>\n",
       "      <th>2</th>\n",
       "      <td>▁kename ▁pinieya ▁meta ▁tewi ▁heh + k + t + me...</td>\n",
       "      <td>▁cuyo ▁dueño ▁y ▁señor ▁era ▁un ▁ o gro ▁,</td>\n",
       "    </tr>\n",
       "    <tr>\n",
       "      <th>3</th>\n",
       "      <td>▁nepe xei ▁tsipeme ▁ki ▁,</td>\n",
       "      <td>▁ v í ▁una ▁pequeña ▁casa ▁,</td>\n",
       "    </tr>\n",
       "    <tr>\n",
       "      <th>4</th>\n",
       "      <td>▁meta ▁mepeka ▁ uxipi ▁naiparie na ▁cenicienta ▁,</td>\n",
       "      <td>▁y ▁se ▁po s aron ▁en ▁lo s ▁hombro s ▁de ▁Cen...</td>\n",
       "    </tr>\n",
       "  </tbody>\n",
       "</table>\n",
       "</div>"
      ],
      "text/plain": [
       "                                            Wixarica  \\\n",
       "0  ▁m + k + ▁pauka h + a ▁tsimupe ▁xik + ra + ye ...   \n",
       "1  ▁ k + naya ▁tatsiu ▁, ▁xeimieme ▁, ▁pure ' eri...   \n",
       "2  ▁kename ▁pinieya ▁meta ▁tewi ▁heh + k + t + me...   \n",
       "3                          ▁nepe xei ▁tsipeme ▁ki ▁,   \n",
       "4  ▁meta ▁mepeka ▁ uxipi ▁naiparie na ▁cenicienta ▁,   \n",
       "\n",
       "                                             Spanish  \n",
       "0  ▁ella ▁ech ó ▁la ▁pequeña ▁rueda ▁de ▁hilar ▁d...  \n",
       "1  ▁El ▁esposo ▁de ▁la ▁liebre ▁, ▁sin ▁embar go ...  \n",
       "2         ▁cuyo ▁dueño ▁y ▁señor ▁era ▁un ▁ o gro ▁,  \n",
       "3                       ▁ v í ▁una ▁pequeña ▁casa ▁,  \n",
       "4  ▁y ▁se ▁po s aron ▁en ▁lo s ▁hombro s ▁de ▁Cen...  "
      ]
     },
     "execution_count": 88,
     "metadata": {},
     "output_type": "execute_result"
    }
   ],
   "source": [
    "hch_es.head(5)"
   ]
  },
  {
   "cell_type": "markdown",
   "metadata": {},
   "source": [
    "# Separate data into training, validation, and development sets"
   ]
  },
  {
   "cell_type": "code",
   "execution_count": 89,
   "metadata": {},
   "outputs": [],
   "source": [
    "\n",
    "#The function writes two text files, one for a src language and another for a tgt language.\n",
    "\n",
    "def write_file(source_data, target_data, source_langauge, target_language, set_type, path ='',spm=False):\n",
    "    \n",
    "    src = open('{}/{}.{}'.format(path,set_type,source_langauge), 'w')\n",
    "    tgt = open('{}/{}.{}'.format(path,set_type,target_language), 'w')\n",
    "    \n",
    "    for i in source_data:\n",
    "        if spm:\n",
    "            src.write(i+'\\n')\n",
    "        else:\n",
    "            src.write(i+'\\n')\n",
    "    src.close() \n",
    "    for i in target_data:\n",
    "        if spm:\n",
    "            tgt.write(i+'\\n')\n",
    "        else:\n",
    "            tgt.write(i+'\\n')\n",
    "    tgt.close()\n",
    "    return\n"
   ]
  },
  {
   "cell_type": "markdown",
   "metadata": {},
   "source": [
    "## Nauhatl-Spanish\n"
   ]
  },
  {
   "cell_type": "code",
   "execution_count": 90,
   "metadata": {},
   "outputs": [],
   "source": [
    "# Split Train and Validation Set \n",
    "X_train_nahuatl, x_dev_nahuatl, Y_train_nahuatl, y_dev_nahuatl = train_test_split(nah_spa['Nahuatl'],\n",
    "                                                                                  nah_spa['Spanish'], \n",
    "                                                                                  test_size=0.1, \n",
    "                                                                                  random_state=30)\n",
    "\n",
    "# Split between validation test and test set\n",
    "x_val_nahuatl, x_test_nahuatl, y_val_nahuatl, y_test_nahuatl = train_test_split(x_dev_nahuatl, \n",
    "                                                                                y_dev_nahuatl, \n",
    "                                                                                test_size=0.5, \n",
    "                                                                                random_state=30)\n"
   ]
  },
  {
   "cell_type": "code",
   "execution_count": 91,
   "metadata": {},
   "outputs": [
    {
     "name": "stdout",
     "output_type": "stream",
     "text": [
      "Size of training set: 14455\n",
      "Size of development set: 803\n",
      "Size of test set: 804\n"
     ]
    }
   ],
   "source": [
    "print( 'Size of training set:', len(X_train_nahuatl))\n",
    "print( 'Size of development set:', len(x_val_nahuatl))\n",
    "print( 'Size of test set:', len(x_test_nahuatl))\n"
   ]
  },
  {
   "cell_type": "code",
   "execution_count": 92,
   "metadata": {},
   "outputs": [],
   "source": [
    "path_n = 'nahuatl-spanish/preprocessed_data/'\n",
    "\n",
    "\n",
    "# write the newly created training sets\n",
    "write_file(source_data = X_train_nahuatl , \n",
    "           target_data = Y_train_nahuatl ,  \n",
    "           source_langauge = 'nah' , \n",
    "           target_language = 'es' ,\n",
    "           set_type = 'train', \n",
    "           path = path_n, \n",
    "           spm=True )\n",
    "\n",
    "# write the newly created training sets\n",
    "write_file(source_data = x_val_nahuatl , \n",
    "           target_data = y_val_nahuatl ,  \n",
    "           source_langauge = 'nah' , \n",
    "           target_language = 'es' ,\n",
    "           set_type = 'val', \n",
    "           path = path_n, \n",
    "           spm=True )\n",
    "\n",
    "# write the newly created training sets\n",
    "write_file(source_data = x_test_nahuatl , \n",
    "           target_data = y_test_nahuatl ,  \n",
    "           source_langauge = 'nah' , \n",
    "           target_language = 'es' ,\n",
    "           set_type = 'test', \n",
    "           path = path_n, \n",
    "           spm=True )\n"
   ]
  },
  {
   "cell_type": "markdown",
   "metadata": {},
   "source": [
    "## Wixarica-Spanish"
   ]
  },
  {
   "cell_type": "code",
   "execution_count": 93,
   "metadata": {},
   "outputs": [],
   "source": [
    "# Split Train and Validation Set \n",
    "X_train_wixarica, x_dev_wixarica, Y_train_wixarica, y_dev_wixarica = train_test_split(hch_es['Wixarica'], \n",
    "                                                                                      hch_es['Spanish'], \n",
    "                                                                                      test_size=0.1, \n",
    "                                                                                      random_state=30)\n",
    "\n",
    "# Split between validation test and test set\n",
    "x_val_wixarica, x_test_wixarica, y_val_wixarica, y_test_wixarica = train_test_split(x_dev_wixarica, \n",
    "                                                                                    y_dev_wixarica, \n",
    "                                                                                    test_size=0.5, \n",
    "                                                                                    random_state=30)"
   ]
  },
  {
   "cell_type": "code",
   "execution_count": 94,
   "metadata": {
    "scrolled": true
   },
   "outputs": [
    {
     "name": "stdout",
     "output_type": "stream",
     "text": [
      "Size of training set: 8069\n",
      "Size of development set: 448\n",
      "Size of test set: 449\n"
     ]
    }
   ],
   "source": [
    "print( 'Size of training set:', len(X_train_wixarica))\n",
    "print( 'Size of development set:', len(x_val_wixarica))\n",
    "print( 'Size of test set:', len(x_test_wixarica))\n"
   ]
  },
  {
   "cell_type": "code",
   "execution_count": null,
   "metadata": {},
   "outputs": [],
   "source": [
    "path_n = 'wixarica-spanish/preprocessed_data/'\n",
    "\n",
    "\n",
    "# write the newly created training sets\n",
    "write_file(source_data = X_train_wixarica , \n",
    "           target_data = Y_train_wixarica ,  \n",
    "           source_langauge = 'hch' , \n",
    "           target_language = 'es' ,\n",
    "           set_type = 'train', \n",
    "           path = path_n, \n",
    "           spm=True )\n",
    "\n",
    "# write the newly created training sets\n",
    "write_file(source_data = x_val_wixarica , \n",
    "           target_data = y_val_wixarica ,  \n",
    "           source_langauge = 'hch' , \n",
    "           target_language = 'es' ,\n",
    "           set_type = 'val', \n",
    "           path = path_n, \n",
    "           spm=True )\n",
    "\n",
    "# write the newly created training sets\n",
    "write_file(source_data = x_test_wixarica , \n",
    "           target_data = y_test_wixarica ,  \n",
    "           source_langauge = 'hch' , \n",
    "           target_language = 'es' ,\n",
    "           set_type = 'test', \n",
    "           path = path_n, \n",
    "           spm=True )"
   ]
  },
  {
   "cell_type": "markdown",
   "metadata": {},
   "source": [
    "# Model configurations"
   ]
  },
  {
   "cell_type": "code",
   "execution_count": null,
   "metadata": {},
   "outputs": [],
   "source": [
    "\n",
    "def write_config (source_languagues, target_languages, model_type = 'seq2seq'):\n",
    "   \n",
    "\n",
    "    save = \"\"\"# {}.yaml\n",
    "\n",
    "    ## Where the samples will be written\n",
    "    save_data: {}-{}/{}/\"\"\"\n",
    "\n",
    "\n",
    "\n",
    "    writen = \"\"\" \n",
    "\n",
    "    ## Where the vocab(s) will be written\n",
    "    src_vocab: {}-{}/{}/vocabulary/vocab.src\n",
    "    tgt_vocab: {}-{}/{}/vocabulary/vocab.tgt\n",
    "    # Prevent overwriting existing files in the folder\n",
    "    overwrite: False\"\"\"\n",
    "\n",
    "\n",
    "    data = \"\"\"\n",
    "\n",
    "    # Corpus opts:\n",
    "    data:\n",
    "        corpus_1:\n",
    "            path_src: {}-{}/preprocessed_data/train.{}\n",
    "            path_tgt: {}-{}/preprocessed_data/train.{}\n",
    "        valid:\n",
    "            path_src: {}-{}/preprocessed_data/val.{}\n",
    "            path_tgt: {}-{}/preprocessed_data/val.{}\n",
    "    \"\"\"\n",
    "\n",
    "    hyp_1 = '''# General opts\n",
    "    save_model: {}-{}/{}/steps/{}\n",
    "    save_checkpoint_steps: 1000\n",
    "    valid_steps: 1000\n",
    "    train_steps: 35000\n",
    "\n",
    "    # Batching\n",
    "    queue_size: 8\n",
    "    bucket_size: 8\n",
    "    world_size: 1\n",
    "    gpu_ranks: [0]\n",
    "    batch_type: \"sents\"\n",
    "    batch_size: 8\n",
    "    valid_batch_size: 8\n",
    "    max_generator_batches: 2\n",
    "    accum_count: [4]\n",
    "    accum_steps: [0]\n",
    "\n",
    "    # Optimization\n",
    "    model_dtype: \"fp32\"\n",
    "    optim: \"adam\"\n",
    "    learning_rate: 1\n",
    "    warmup_steps: 4000\n",
    "    decay_method: \"noam\"\n",
    "    adam_beta2: 0.998\n",
    "    max_grad_norm: 0\n",
    "    label_smoothing: 0.1\n",
    "    param_init: 0\n",
    "    param_init_glorot: true\n",
    "    normalization: \"sents\"\n",
    "    '''\n",
    "    s2s = \"\"\"\n",
    "    # General opts\n",
    "    save_model: {}-{}/{}/steps/{}\n",
    "    save_checkpoint_steps: 1000\n",
    "    valid_steps: 1000\n",
    "    train_steps: 35000\n",
    "\n",
    "    # Batching\n",
    "    batch_size: 8\n",
    "\n",
    "    #GPU\n",
    "    world_size: 1\n",
    "    gpu_ranks: [0]\"\"\"\n",
    "\n",
    "\n",
    "\n",
    "    FFN = [512, 1024] \n",
    "\n",
    "    hyp_2 = \"\"\"# Model\n",
    "    encoder_type: transformer\n",
    "    decoder_type: transformer\n",
    "    position_encoding: true\n",
    "    enc_layers: 3\n",
    "    dec_layers: 3\n",
    "    heads: 4\n",
    "    rnn_size: 128\n",
    "    word_vec_size: 128\n",
    "    transformer_ff: {}\n",
    "    dropout_steps: [0]\n",
    "    dropout: [0.3]\n",
    "    attention_dropout: [0.3]\n",
    "    \"\"\"\n",
    "    log = '''\n",
    "    # Logging\n",
    "    log_file: {}-{}/{}/log_{}\n",
    "    ...\n",
    "    '''\n",
    "    \n",
    "    for src in source_languagues:\n",
    "        for tgt in target_languages: \n",
    "            if model_type == 'transformer': \n",
    "                for ffn in [512, 1024] :\n",
    "                    model = 'transformer_{}'.format(ffn)\n",
    "\n",
    "                    config_path = '{}-{}/{}'.format(src,tgt, model)\n",
    "\n",
    "                    config = [save.format(model,src,tgt, model),\n",
    "                    writen.format(src,tgt, model, src,tgt, model),\n",
    "                    data.format(src,tgt, langauges[src], \n",
    "                    src,tgt, langauges[tgt], \n",
    "                    src,tgt, langauges[src], \n",
    "                    src,tgt, langauges[tgt]),\n",
    "                    hyp_1.format(src,tgt, model, model),\n",
    "                    hyp_2.format(ffn),\n",
    "                    log.format(src,tgt, model, model)\n",
    "                    ]\n",
    "\n",
    "            if model_type == 'seq2seq':\n",
    "                model = 'seq2seq'\n",
    "\n",
    "                config_path = '{}-{}/{}'.format(src,tgt, model)\n",
    "\n",
    "                config = [save.format(model,src,tgt, model),\n",
    "                writen.format(src,tgt, model, src,tgt, model),\n",
    "\n",
    "\n",
    "                data.format(src,tgt, langauges[src], \n",
    "                src,tgt, langauges[tgt], \n",
    "                src,tgt, langauges[src], \n",
    "                src,tgt, langauges[tgt]),\n",
    "                s2s.format(src,tgt, model, model),\n",
    "                log.format(src,tgt, model, model)\n",
    "                ]\n",
    "\n",
    "                \n",
    "            with open(config_path+'.yaml', 'w') as f:\n",
    "                f.write(''.join(config))\n"
   ]
  },
  {
   "cell_type": "code",
   "execution_count": null,
   "metadata": {},
   "outputs": [],
   "source": [
    "write_config(source_languagues = ['spanish'], \n",
    "                          target_languages = ['wixarica', 'nahuatl'], \n",
    "                          model_type = 'seq2seq')"
   ]
  },
  {
   "cell_type": "code",
   "execution_count": null,
   "metadata": {},
   "outputs": [],
   "source": [
    "write_config(source_languagues = ['spanish'], \n",
    "                          target_languages = ['wixarica', 'nahuatl'], \n",
    "                          model_type = 'transformer')"
   ]
  },
  {
   "cell_type": "code",
   "execution_count": null,
   "metadata": {},
   "outputs": [],
   "source": [
    "write_config(source_languagues = ['wixarica', 'nahuatl'] , \n",
    "                          target_languages = ['spanish'],\n",
    "                          model_type = 'seq2seq')"
   ]
  },
  {
   "cell_type": "code",
   "execution_count": null,
   "metadata": {},
   "outputs": [],
   "source": [
    "write_config(source_languagues = ['wixarica', 'nahuatl'] , \n",
    "                          target_languages = ['spanish'],\n",
    "                          model_type = 'transformer')\n"
   ]
  },
  {
   "cell_type": "markdown",
   "metadata": {},
   "source": [
    "# Training"
   ]
  },
  {
   "cell_type": "code",
   "execution_count": null,
   "metadata": {},
   "outputs": [],
   "source": [
    "!pip install OpenNMT-py"
   ]
  },
  {
   "cell_type": "markdown",
   "metadata": {},
   "source": [
    "# Polysynthetic to Fusional "
   ]
  },
  {
   "cell_type": "markdown",
   "metadata": {},
   "source": [
    "# LSTM"
   ]
  },
  {
   "cell_type": "code",
   "execution_count": null,
   "metadata": {},
   "outputs": [],
   "source": [
    "!onmt_build_vocab -config nahuatl-spanish/configurations/seq2seq.yaml -n_sample 2000\n",
    "!onmt_train -config nahuatl-spanish/configurations/seq2seq.yaml"
   ]
  },
  {
   "cell_type": "code",
   "execution_count": null,
   "metadata": {},
   "outputs": [],
   "source": [
    "!onmt_build_vocab -config wixarica-spanish/configurations/seq2seq.yaml -n_sample 2000\n",
    "!onmt_train -config wixarica-spanish/configurations/seq2seq.yaml"
   ]
  },
  {
   "cell_type": "markdown",
   "metadata": {},
   "source": [
    "# Transformer 512 "
   ]
  },
  {
   "cell_type": "code",
   "execution_count": null,
   "metadata": {},
   "outputs": [],
   "source": [
    "!onmt_build_vocab -config nahuatl-spanish/configurations/transformer_512.yaml -n_sample 2000\n",
    "!onmt_train -config nahuatl-spanish/configurations/transformer_512.yaml"
   ]
  },
  {
   "cell_type": "code",
   "execution_count": null,
   "metadata": {},
   "outputs": [],
   "source": [
    "!onmt_build_vocab -config wixarica-spanish/configurations/transformer_512.yaml -n_sample 2000\n",
    "!onmt_train -config wixarica-spanish/configurations/transformer_512.yaml"
   ]
  },
  {
   "cell_type": "markdown",
   "metadata": {},
   "source": [
    "# Transformer 1024"
   ]
  },
  {
   "cell_type": "code",
   "execution_count": null,
   "metadata": {},
   "outputs": [],
   "source": [
    "!onmt_build_vocab -config nahuatl-spanish/configurations/transformer_1024.yaml -n_sample 2000\n",
    "!onmt_train -config nahuatl-spanish/configurations/transformer_1024.yaml"
   ]
  },
  {
   "cell_type": "code",
   "execution_count": null,
   "metadata": {},
   "outputs": [],
   "source": [
    "!onmt_build_vocab -config wixarica-spanish/configurations/transformer_1024.yaml -n_sample 2000\n",
    "!onmt_train -config wixarica-spanish/configurations/transformer_1024.yaml"
   ]
  },
  {
   "cell_type": "markdown",
   "metadata": {},
   "source": [
    "# Fusional to polysynthetic"
   ]
  },
  {
   "cell_type": "markdown",
   "metadata": {},
   "source": [
    "## LSTM"
   ]
  },
  {
   "cell_type": "code",
   "execution_count": null,
   "metadata": {},
   "outputs": [],
   "source": [
    "!onmt_build_vocab -config spanish-nahuatl/configurations/seq2seq.yaml -n_sample 2000\n",
    "!onmt_train -config spanish-nahuatl/configurations/seq2seq.yaml"
   ]
  },
  {
   "cell_type": "code",
   "execution_count": null,
   "metadata": {},
   "outputs": [],
   "source": [
    "!onmt_build_vocab -config spanish-wixarica/configurations/seq2seq.yaml -n_sample 2000\n",
    "!onmt_train -config spanish-wixarica/configurations/seq2seq.yaml"
   ]
  },
  {
   "cell_type": "markdown",
   "metadata": {},
   "source": [
    "## Transformer 512"
   ]
  },
  {
   "cell_type": "code",
   "execution_count": null,
   "metadata": {},
   "outputs": [],
   "source": [
    "!onmt_build_vocab -config spanish-nahuatl/configurations/transformer_512.yaml -n_sample 2000\n",
    "!onmt_train -config spanish-nahuatl/configurations/transformer_512.yaml"
   ]
  },
  {
   "cell_type": "code",
   "execution_count": null,
   "metadata": {},
   "outputs": [],
   "source": [
    "!onmt_build_vocab -config spanish-wixarica/configurations/transformer_512.yaml -n_sample 2000\n",
    "!onmt_train -config spanish-wixarica/configurations/transformer_512.yaml"
   ]
  },
  {
   "cell_type": "markdown",
   "metadata": {},
   "source": [
    "## Transformer 1024"
   ]
  },
  {
   "cell_type": "code",
   "execution_count": null,
   "metadata": {},
   "outputs": [],
   "source": [
    "!onmt_build_vocab -config spanish-nahuatl/configurations/transformer_1024.yaml -n_sample 2000\n",
    "!onmt_train -config spanish-nahuatl/configurations/transformer_1024.yaml"
   ]
  },
  {
   "cell_type": "code",
   "execution_count": null,
   "metadata": {},
   "outputs": [],
   "source": [
    "!onmt_build_vocab -config spanish-wixarica/configurations/transformer_1024.yaml -n_sample 2000\n",
    "!onmt_train -config spanish-wixarica/configurations/transformer_1024.yaml"
   ]
  },
  {
   "cell_type": "markdown",
   "metadata": {},
   "source": [
    "# Evaluation"
   ]
  },
  {
   "cell_type": "code",
   "execution_count": null,
   "metadata": {},
   "outputs": [],
   "source": [
    "#Translate sentences in the test set using the learend models\n",
    "def translate_sentences(langauges, model, iterations = 36000):\n",
    "    langs = {'wixarica':'hch', 'nahuatl':'nah', 'spanish':'es'}\n",
    "    l = langauges.split('-')[0]\n",
    "    test_subset = langs[l]\n",
    "    \n",
    "    for i in range(1000,iterations,1000):\n",
    "        m = langauges+'/'+model+'/steps/'+model+'_step_{}.pt'.format(i)\n",
    "        s = langauges+'/preprocessed_data/test.{}'.format(test_subset) \n",
    "        outp = langauges+'/'+model+'/predictions/actual_pred_{}.txt'.format(i)\n",
    "        translate = 'onmt_translate -model {} -src {} -output {} -gpu 0'.format(m,s,outp)\n",
    "        os.system(translate)\n",
    "        print(model,i,'for',langauges, 'done!')\n",
    "        \n",
    "    return"
   ]
  },
  {
   "cell_type": "code",
   "execution_count": null,
   "metadata": {},
   "outputs": [],
   "source": [
    "\n",
    "import sacrebleu\n",
    "\n",
    "# functions to evaluate a single sentence\n",
    "\n",
    "def calculate_score_report(prediction, reference, score_only=True):\n",
    "    #compute chrf\n",
    "    chrf = sacrebleu.corpus_chrf(prediction, reference)\n",
    "    #compute bleu\n",
    "    bleu = sacrebleu.corpus_bleu(prediction, reference)\n",
    "    \n",
    "    b = float(bleu.format(score_only=score_only))\n",
    "    c = float(str(chrf)[8:])\n",
    "    return (c,b)\n",
    "\n",
    "# functions to multiple sentences\n",
    "\n",
    "def evaluate_performance (reference, prediction):\n",
    "    bleu = []\n",
    "    chrf = []\n",
    "    for ref,pred in zip(reference,prediction):\n",
    "        score = list(calculate_score_report( pred, ref, score_only=True))\n",
    "        chrf.append(score[0])\n",
    "        bleu.append(score[1])\n",
    "    return([bleu,chrf])"
   ]
  },
  {
   "cell_type": "code",
   "execution_count": null,
   "metadata": {},
   "outputs": [],
   "source": [
    "def model_evaluation(langauges, model, iterations = 36000):\n",
    "    path = '{}/{}'.format(languages, model)\n",
    "    l = langauges.split('-')[0]\n",
    "    test_subset = langs[l]\n",
    "    \n",
    "    references = open('{}/preprocessed_data/test.{}'.format(languages, test_subset),'r').readlines()\n",
    "    predictions = {}\n",
    "    for i in range(1000,iterations,1000):\n",
    "        preds = open(path+'/predictions/actual_pred_{}.txt'.format(i),'r').readlines()\n",
    "        predictions['pred_{}'.format(i)] = evaluate_performance (references, preds)\n",
    "\n",
    "    with open('{}_actual_pred__evaluation.txt'.format(path), 'w') as evaluation:\n",
    "\n",
    "        for i in predictions:\n",
    "            pr = predictions[i]\n",
    "            blue,chrf = pr[0],pr[1]\n",
    "            evaluation.write(i+'\\n')\n",
    "            evaluation.write('BLEU:{}'.format(sum(blue)/len(blue))+'\\n')\n",
    "            evaluation.write('CHRF:{}'.format(sum(chrf)/len(chrf))+'\\n')\n",
    "    return"
   ]
  },
  {
   "cell_type": "markdown",
   "metadata": {},
   "source": [
    "## Polysyntethic to Fusional"
   ]
  },
  {
   "cell_type": "markdown",
   "metadata": {},
   "source": [
    "### LSTM"
   ]
  },
  {
   "cell_type": "code",
   "execution_count": null,
   "metadata": {},
   "outputs": [],
   "source": [
    "translate_sentences(langauges = 'nahuatl-spanish', model = 'seq2seq')\n",
    "model_evaluation(langauges = 'nahuatl-spanish', model = 'seq2seq')"
   ]
  },
  {
   "cell_type": "code",
   "execution_count": null,
   "metadata": {},
   "outputs": [],
   "source": [
    "translate_sentences(langauges = 'wixarica-spanish', model = 'seq2seq')\n",
    "model_evaluation(langauges = 'wixarica-spanish', model = 'seq2seq')"
   ]
  },
  {
   "cell_type": "markdown",
   "metadata": {},
   "source": [
    "### Transformer-512"
   ]
  },
  {
   "cell_type": "code",
   "execution_count": null,
   "metadata": {},
   "outputs": [],
   "source": [
    "translate_sentences(langauges = 'nahuatl-spanish', model = 'transformer_512')\n",
    "model_evaluation(langauges = 'nahuatl-spanish', model = 'transformer_512')"
   ]
  },
  {
   "cell_type": "code",
   "execution_count": null,
   "metadata": {},
   "outputs": [],
   "source": [
    "translate_sentences(langauges = 'wixarica-spanish', model = 'transformer_512')\n",
    "model_evaluation(langauges = 'wixarica-spanish', model = 'transformer_512')"
   ]
  },
  {
   "cell_type": "markdown",
   "metadata": {},
   "source": [
    "### Transformer-1024"
   ]
  },
  {
   "cell_type": "code",
   "execution_count": null,
   "metadata": {},
   "outputs": [],
   "source": [
    "translate_sentences(langauges = 'nahuatl-spanish', model = 'transformer_1024')\n",
    "model_evaluation(langauges = 'nahuatl-spanish', model = 'transformer_1024')"
   ]
  },
  {
   "cell_type": "code",
   "execution_count": null,
   "metadata": {},
   "outputs": [],
   "source": [
    "translate_sentences(langauges = 'wixarica-spanish', model = 'transformer_1024')\n",
    "model_evaluation(langauges = 'wixarica-spanish', model = 'transformer_1024')"
   ]
  },
  {
   "cell_type": "markdown",
   "metadata": {},
   "source": [
    "## Fusional to polysynthetic"
   ]
  },
  {
   "cell_type": "markdown",
   "metadata": {},
   "source": [
    "### LSTM"
   ]
  },
  {
   "cell_type": "code",
   "execution_count": null,
   "metadata": {},
   "outputs": [],
   "source": [
    "translate_sentences(langauges = 'spanish-nahuatl', model = 'seq2seq')\n",
    "model_evaluation(langauges = 'spanish-nahuatl', model = 'seq2seq')"
   ]
  },
  {
   "cell_type": "code",
   "execution_count": null,
   "metadata": {},
   "outputs": [],
   "source": [
    "translate_sentences(langauges = 'spanish-wixarica', model = 'seq2seq')\n",
    "model_evaluation(langauges = 'spanish-wixarica', model = 'seq2seq')"
   ]
  },
  {
   "cell_type": "markdown",
   "metadata": {},
   "source": [
    "### Transformer 512"
   ]
  },
  {
   "cell_type": "code",
   "execution_count": null,
   "metadata": {},
   "outputs": [],
   "source": [
    "translate_sentences(langauges = 'spanish-nahuatl', model = 'transformer_512')\n",
    "model_evaluation(langauges = 'spanish-nahuatl', model = 'transformer_512')"
   ]
  },
  {
   "cell_type": "code",
   "execution_count": null,
   "metadata": {},
   "outputs": [],
   "source": [
    "translate_sentences(langauges = 'spanish-wixarica', model = 'transformer_512')\n",
    "model_evaluation(langauges = 'spanish-wixarica', model = 'transformer_512')"
   ]
  },
  {
   "cell_type": "markdown",
   "metadata": {},
   "source": [
    "### Transformer 1024"
   ]
  },
  {
   "cell_type": "code",
   "execution_count": null,
   "metadata": {},
   "outputs": [],
   "source": [
    "translate_sentences(langauges = 'spanish-nahuatl', model = 'transformer_1024')\n",
    "model_evaluation(langauges = 'spanish-nahuatl', model = 'transformer_1024')"
   ]
  },
  {
   "cell_type": "code",
   "execution_count": null,
   "metadata": {},
   "outputs": [],
   "source": [
    "translate_sentences(langauges = 'spanish-wixarica', model = 'transformer_1024')\n",
    "model_evaluation(langauges = 'spanish-wixarica', model = 'transformer_1024')"
   ]
  }
 ],
 "metadata": {
  "kernelspec": {
   "display_name": "Python 3",
   "language": "python",
   "name": "python3"
  },
  "language_info": {
   "codemirror_mode": {
    "name": "ipython",
    "version": 3
   },
   "file_extension": ".py",
   "mimetype": "text/x-python",
   "name": "python",
   "nbconvert_exporter": "python",
   "pygments_lexer": "ipython3",
   "version": "3.8.3"
  }
 },
 "nbformat": 4,
 "nbformat_minor": 4
}
